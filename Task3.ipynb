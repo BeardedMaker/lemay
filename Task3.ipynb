{
  "nbformat": 4,
  "nbformat_minor": 0,
  "metadata": {
    "colab": {
      "provenance": [],
      "collapsed_sections": [],
      "authorship_tag": "ABX9TyN7/smG60Acw162FFjUSimh",
      "include_colab_link": true
    },
    "kernelspec": {
      "name": "python3",
      "display_name": "Python 3"
    },
    "language_info": {
      "name": "python"
    }
  },
  "cells": [
    {
      "cell_type": "markdown",
      "metadata": {
        "id": "view-in-github",
        "colab_type": "text"
      },
      "source": [
        "<a href=\"https://colab.research.google.com/github/BeardedMaker/lemay/blob/main/Task3.ipynb\" target=\"_parent\"><img src=\"https://colab.research.google.com/assets/colab-badge.svg\" alt=\"Open In Colab\"/></a>"
      ]
    },
    {
      "cell_type": "code",
      "source": [
        "!wget https://storage.googleapis.com/seldon-datasets/sentence_polarity_v1/rt-polaritydata.tar.gz\n",
        "#dataset = datasets.load_dataset('https://storage.googleapis.com/seldon-datasets/sentence_polarity_v1/rt-polaritydata.tar.gz', split='validation[:10%]')"
      ],
      "metadata": {
        "id": "3qOUye6yWuTF"
      },
      "execution_count": null,
      "outputs": []
    },
    {
      "cell_type": "code",
      "source": [
        "!tar --gunzip --extract --file=rt-polaritydata.tar.gz"
      ],
      "metadata": {
        "id": "Imr42k_UZf1L"
      },
      "execution_count": null,
      "outputs": []
    },
    {
      "cell_type": "code",
      "source": [
        "%cd rt-polaritydata/"
      ],
      "metadata": {
        "id": "qd96zbLOaNJs"
      },
      "execution_count": null,
      "outputs": []
    },
    {
      "cell_type": "code",
      "source": [
        "!ls -l"
      ],
      "metadata": {
        "colab": {
          "base_uri": "https://localhost:8080/"
        },
        "id": "N59-MZSmaWP6",
        "outputId": "814fff05-e817-4986-b307-eed75c8accd9"
      },
      "execution_count": 23,
      "outputs": [
        {
          "output_type": "stream",
          "name": "stdout",
          "text": [
            "total 1212\n",
            "-rw------- 1 662 662 612290 Jun 18  2005 rt-polarity.neg\n",
            "-rw------- 1 662 662 626168 Jun 18  2005 rt-polarity.pos\n"
          ]
        }
      ]
    },
    {
      "cell_type": "code",
      "source": [
        "#data_dir = \"rt-polaritydata/\"\n",
        "from google.colab import files\n",
        "import io\n",
        "pos_samples, neg_samples = None, None\n",
        "path = \"rt-polarity.pos\"\n",
        "#filepos = open(path, \"r\")\n",
        "#poscontent = filepos.read()\n",
        "#print(poscontent)\n",
        "with open(path, \"r\", encoding='latin-1') as filepos:\n",
        "    pos_samples = [line for line in filepos.read().split('\\n')]\n",
        "    \n",
        "print(pos_samples[0])\n",
        "\n",
        "path = \"rt-polarity.neg\"\n",
        "#filepos = open(path, \"r\")\n",
        "#poscontent = filepos.read()\n",
        "#print(poscontent)\n",
        "with open(path, \"r\", encoding='latin-1') as filepos:\n",
        "    neg_samples = [line for line in filepos.read().split('\\n')]\n",
        "\n",
        "print(neg_samples[0])\n",
        "\n"
      ],
      "metadata": {
        "id": "C8lx_3OfW6I5"
      },
      "execution_count": null,
      "outputs": []
    },
    {
      "cell_type": "code",
      "source": [
        "from textblob import TextBlob\n",
        "pos_sum = 0\n",
        "for line in pos_samples:\n",
        "  blob = TextBlob(line)\n",
        "  pos_sum += blob.sentiment.polarity\n",
        "print(pos_sum)\n",
        "\n",
        "neg_sum = 0\n",
        "for line in neg_samples:\n",
        "  blob = TextBlob(line)\n",
        "  neg_sum += blob.sentiment.polarity\n",
        "print(neg_sum)\n",
        "\n",
        "pos_text = ''.join(pos_samples)\n",
        "from wordcloud import WordCloud, STOPWORDS\n",
        "word_cloud = WordCloud(\n",
        "        width=3000,\n",
        "        height=2000,\n",
        "        random_state=1,\n",
        "        background_color=\"salmon\",\n",
        "        colormap=\"Pastel1\",\n",
        "        collocations=False,\n",
        "        stopwords=STOPWORDS,\n",
        "        ).generate(pos_text)\n",
        "import matplotlib.pyplot as plt\n",
        "plt.imshow(word_cloud)\n",
        "plt.axis(\"off\")\n",
        "plt.show()\n",
        "\n",
        "neg_text = ''.join(neg_samples)\n",
        "#from wordcloud import WordCloud, STOPWORDS\n",
        "word_cloud = WordCloud(\n",
        "        width=3000,\n",
        "        height=2000,\n",
        "        random_state=1,\n",
        "        background_color=\"salmon\",\n",
        "        colormap=\"Pastel1\",\n",
        "        collocations=False,\n",
        "        stopwords=STOPWORDS,\n",
        "        ).generate(neg_text)\n",
        "#import matplotlib.pyplot as plt\n",
        "plt.imshow(word_cloud)\n",
        "plt.axis(\"off\")\n",
        "plt.show()"
      ],
      "metadata": {
        "id": "B-zxVDwljova"
      },
      "execution_count": null,
      "outputs": []
    },
    {
      "cell_type": "code",
      "source": [
        "pos_text = ''.join(pos_samples)\n",
        "for characters in ['movies','movie','films','film','one','characters','character','makes','make','times','time']:\n",
        "  if characters in pos_text:\n",
        "    pos_text = pos_text.replace(characters,'')\n",
        "\n",
        "word_cloud = WordCloud(\n",
        "        width=3000,\n",
        "        height=2000,\n",
        "        random_state=1,\n",
        "        background_color=\"salmon\",\n",
        "        colormap=\"Pastel1\",\n",
        "        collocations=False,\n",
        "        stopwords=STOPWORDS,\n",
        "        ).generate(pos_text)\n",
        "import matplotlib.pyplot as plt\n",
        "plt.imshow(word_cloud)\n",
        "plt.axis(\"off\")\n",
        "plt.show()"
      ],
      "metadata": {
        "id": "w0VNiyEMiFNM"
      },
      "execution_count": null,
      "outputs": []
    },
    {
      "cell_type": "code",
      "source": [
        "neg_text = ''.join(neg_samples)\n",
        "for characters in ['movies','movie','films','film','one','characters','character','makes','make','times','time']:\n",
        "  if characters in neg_text:\n",
        "    neg_text = neg_text.replace(characters,'')\n",
        "\n",
        "word_cloud = WordCloud(\n",
        "        width=3000,\n",
        "        height=2000,\n",
        "        random_state=1,\n",
        "        background_color=\"salmon\",\n",
        "        colormap=\"Pastel1\",\n",
        "        collocations=False,\n",
        "        stopwords=STOPWORDS,\n",
        "        ).generate(neg_text)\n",
        "import matplotlib.pyplot as plt\n",
        "plt.imshow(word_cloud)\n",
        "plt.axis(\"off\")\n",
        "plt.show()"
      ],
      "metadata": {
        "id": "SAl0R7QnlEO1"
      },
      "execution_count": null,
      "outputs": []
    }
  ]
}
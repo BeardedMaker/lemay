{
  "nbformat": 4,
  "nbformat_minor": 0,
  "metadata": {
    "colab": {
      "provenance": [],
      "collapsed_sections": [],
      "authorship_tag": "ABX9TyPLoWcZtbHBQU3LU54+i+Or",
      "include_colab_link": true
    },
    "kernelspec": {
      "name": "python3",
      "display_name": "Python 3"
    },
    "language_info": {
      "name": "python"
    }
  },
  "cells": [
    {
      "cell_type": "markdown",
      "metadata": {
        "id": "view-in-github",
        "colab_type": "text"
      },
      "source": [
        "<a href=\"https://colab.research.google.com/github/BeardedMaker/lemay/blob/main/Task3.ipynb\" target=\"_parent\"><img src=\"https://colab.research.google.com/assets/colab-badge.svg\" alt=\"Open In Colab\"/></a>"
      ]
    },
    {
      "cell_type": "markdown",
      "source": [
        "Please explain why you have chosen this dataset for your demonstration of exploratory data analysis. Dataset: https://huggingface.co/datasets/rotten_tomatoes\n",
        "\n",
        "#Get the dataset"
      ],
      "metadata": {
        "id": "xPDTK6zqtRKz"
      }
    },
    {
      "cell_type": "code",
      "source": [
        "!wget https://storage.googleapis.com/seldon-datasets/sentence_polarity_v1/rt-polaritydata.tar.gz"
      ],
      "metadata": {
        "id": "3qOUye6yWuTF"
      },
      "execution_count": null,
      "outputs": []
    },
    {
      "cell_type": "markdown",
      "source": [
        "I enjoy movies and regularly check Rotten Tomatoes for reviews before watching so checking to see what positive and negative reviews are like. I thought it would be a fun exercise to see what kind of keywords one should look for when checking the reviews and how many the polarity differs between positive and negative comments"
      ],
      "metadata": {
        "id": "N3DiJsd9tctL"
      }
    },
    {
      "cell_type": "markdown",
      "source": [
        "#Unzip the dataset files"
      ],
      "metadata": {
        "id": "N4W1NFHlthxi"
      }
    },
    {
      "cell_type": "code",
      "source": [
        "!tar --gunzip --extract --file=rt-polaritydata.tar.gz"
      ],
      "metadata": {
        "id": "Imr42k_UZf1L"
      },
      "execution_count": null,
      "outputs": []
    },
    {
      "cell_type": "markdown",
      "source": [
        "# Navigate to the folder containing the files"
      ],
      "metadata": {
        "id": "NUCC3Nj7tu9N"
      }
    },
    {
      "cell_type": "code",
      "source": [
        "%cd rt-polaritydata/"
      ],
      "metadata": {
        "id": "qd96zbLOaNJs"
      },
      "execution_count": null,
      "outputs": []
    },
    {
      "cell_type": "code",
      "source": [
        "# list all the files and their details in the folder and you'll find 'rt-polarity.pos' and 'rt-polarity.neg' files\n",
        "!ls -l"
      ],
      "metadata": {
        "id": "N59-MZSmaWP6"
      },
      "execution_count": null,
      "outputs": []
    },
    {
      "cell_type": "markdown",
      "source": [
        "# Read files into lists"
      ],
      "metadata": {
        "id": "apRNyhp_t4iP"
      }
    },
    {
      "cell_type": "code",
      "source": [
        "# data_dir = \"rt-polaritydata/\" #REMOVE COMMENT if you did not run the cd command above\n",
        "pos_samples, neg_samples = None, None\n",
        "\n",
        "#Read Positive Review File\n",
        "path = \"rt-polarity.pos\"\n",
        "with open(path, \"r\", encoding='latin-1') as filepos:\n",
        "    pos_samples = [line for line in filepos.read().split('\\n')] # Store each line as a list element\n",
        "    \n",
        "print(pos_samples[0]) #Check 1st line of positive review\n",
        "\n",
        "#Read Negative Review File\n",
        "path = \"rt-polarity.neg\"\n",
        "with open(path, \"r\", encoding='latin-1') as filepos:\n",
        "    neg_samples = [line for line in filepos.read().split('\\n')]\n",
        "\n",
        "print(neg_samples[0]) #Check 1st line of negative review"
      ],
      "metadata": {
        "colab": {
          "base_uri": "https://localhost:8080/"
        },
        "id": "C8lx_3OfW6I5",
        "outputId": "15b29021-f837-4eb1-d860-947f523ca9b0"
      },
      "execution_count": 77,
      "outputs": [
        {
          "output_type": "stream",
          "name": "stdout",
          "text": [
            "the rock is destined to be the 21st century's new \" conan \" and that he's going to make a splash even greater than arnold schwarzenegger , jean-claud van damme or steven segal . \n",
            "simplistic , silly and tedious . \n"
          ]
        }
      ]
    },
    {
      "cell_type": "markdown",
      "source": [
        "# Calculate Positive and Negative Sentiments"
      ],
      "metadata": {
        "id": "qbUsIIwNune_"
      }
    },
    {
      "cell_type": "code",
      "source": [
        "from textblob import TextBlob\n",
        "pos_sum = 0 # Sum of Positive Sentiments\n",
        "for line in pos_samples:\n",
        "  blob = TextBlob(line)\n",
        "  pos_sum += blob.sentiment.polarity\n",
        "print('Total Positive Sentiment Polarity',pos_sum)\n",
        "\n",
        "neg_sum = 0 # Sum of Negative Sentiments\n",
        "for line in neg_samples:\n",
        "  blob = TextBlob(line)\n",
        "  neg_sum += blob.sentiment.polarity\n",
        "print('Total Negative Sentiment Polarity',neg_sum)"
      ],
      "metadata": {
        "id": "B-zxVDwljova"
      },
      "execution_count": null,
      "outputs": []
    },
    {
      "cell_type": "markdown",
      "source": [
        "#Generate Wordcloud for Positive and Negative Reviews"
      ],
      "metadata": {
        "id": "_I3dpFzvu_Ph"
      }
    },
    {
      "cell_type": "code",
      "source": [
        "from wordcloud import WordCloud, STOPWORDS\n",
        "import matplotlib.pyplot as plt"
      ],
      "metadata": {
        "id": "E81_ci_cv6Ip"
      },
      "execution_count": null,
      "outputs": []
    },
    {
      "cell_type": "code",
      "source": [
        "#For Positive Reviews\n",
        "pos_text = ''.join(pos_samples)\n",
        "word_cloud = WordCloud(\n",
        "        width=3000,\n",
        "        height=2000,\n",
        "        random_state=1,\n",
        "        background_color=\"salmon\",\n",
        "        colormap=\"Pastel1\",\n",
        "        collocations=False,\n",
        "        stopwords=STOPWORDS,\n",
        "        ).generate(pos_text)\n",
        "plt.imshow(word_cloud)\n",
        "plt.axis(\"off\")\n",
        "plt.show()\n",
        "\n",
        "#For Negative Reviews\n",
        "neg_text = ''.join(neg_samples)\n",
        "word_cloud = WordCloud(\n",
        "        width=3000,\n",
        "        height=2000,\n",
        "        random_state=1,\n",
        "        background_color=\"salmon\",\n",
        "        colormap=\"Pastel1\",\n",
        "        collocations=False,\n",
        "        stopwords=STOPWORDS,\n",
        "        ).generate(neg_text)\n",
        "plt.imshow(word_cloud)\n",
        "plt.axis(\"off\")\n",
        "plt.show()"
      ],
      "metadata": {
        "id": "4oTnGHYRu8-S"
      },
      "execution_count": null,
      "outputs": []
    },
    {
      "cell_type": "markdown",
      "source": [
        "#Remove common words seen frequently in both reviews for better analysis"
      ],
      "metadata": {
        "id": "kT_JIyBHvkQy"
      }
    },
    {
      "cell_type": "code",
      "source": [
        "#For Positive Reviews\n",
        "#pos_text = ''.join(pos_samples) #REMOVE COMMENT if you did not run the above code block\n",
        "for characters in ['movies','movie','films','film','one','characters','character','makes','make','times','time']:\n",
        "  if characters in pos_text:\n",
        "    pos_text = pos_text.replace(characters,'')\n",
        "word_cloud = WordCloud(\n",
        "        width=3000,\n",
        "        height=2000,\n",
        "        random_state=1,\n",
        "        background_color=\"salmon\",\n",
        "        colormap=\"Pastel1\",\n",
        "        collocations=False,\n",
        "        stopwords=STOPWORDS,\n",
        "        ).generate(pos_text)\n",
        "import matplotlib.pyplot as plt\n",
        "plt.imshow(word_cloud)\n",
        "plt.axis(\"off\")\n",
        "plt.show()\n",
        "\n",
        "#For Negative Reviews\n",
        "#neg_text = ''.join(neg_samples) #REMOVE COMMENT if you did not run the above code block\n",
        "for characters in ['movies','movie','films','film','one','characters','character','makes','make','times','time']:\n",
        "  if characters in neg_text:\n",
        "    neg_text = neg_text.replace(characters,'')\n",
        "\n",
        "word_cloud = WordCloud(\n",
        "        width=3000,\n",
        "        height=2000,\n",
        "        random_state=1,\n",
        "        background_color=\"salmon\",\n",
        "        colormap=\"Pastel1\",\n",
        "        collocations=False,\n",
        "        stopwords=STOPWORDS,\n",
        "        ).generate(neg_text)\n",
        "import matplotlib.pyplot as plt\n",
        "plt.imshow(word_cloud)\n",
        "plt.axis(\"off\")\n",
        "plt.show()"
      ],
      "metadata": {
        "id": "w0VNiyEMiFNM"
      },
      "execution_count": null,
      "outputs": []
    }
  ]
}